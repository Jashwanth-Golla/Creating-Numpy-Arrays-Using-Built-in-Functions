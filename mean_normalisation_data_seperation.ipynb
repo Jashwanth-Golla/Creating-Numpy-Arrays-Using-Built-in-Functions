{
 "cells": [
  {
   "cell_type": "markdown",
   "metadata": {},
   "source": [
    "# Mean Normalization\n",
    "\n",
    "In machine learning we use large amounts of data to train our models. Some machine learning algorithms may require that the data is *normalized* in order to work correctly. The idea of normalization, also known as *feature scaling*, is to ensure that all the data is on a similar scale, *i.e.* that all the data takes on a similar range of values. For example, we might have a dataset that has values between 0 and 5,000. By normalizing the data we can make the range of values be between 0 and 1.\n",
    "\n",
    "In this lab, you will be performing a different kind of feature scaling known as *mean normalization*. Mean normalization will scale the data, but instead of making the values be between 0 and 1, it will distribute the values evenly in some small interval around zero. For example, if we have a dataset that has values between 0 and 5,000, after mean normalization the range of values will be distributed in some small range around 0, for example between -3 to 3. Because the range of values are distributed evenly around zero, this guarantees that the average (mean) of all elements will be zero. Therefore, when you perform *mean normalization* your data will not only be scaled but it will also have an average of zero. \n",
    "\n",
    "# To Do:\n",
    "\n",
    "You will start by importing NumPy and creating a rank 2 ndarray of random integers between 0 and 5,000 (inclusive) with 1000 rows and 20 columns. This array will simulate a dataset with a wide range of values. Fill in the code below"
   ]
  },
  {
   "cell_type": "code",
   "execution_count": 9,
   "metadata": {},
   "outputs": [
    {
     "name": "stdout",
     "output_type": "stream",
     "text": [
      "[[1107  612 1554 ... 4792   15  119]\n",
      " [3054 4616 4371 ... 1630 4026 4075]\n",
      " [ 517   25 1920 ... 2121 2872 4677]\n",
      " ...\n",
      " [3435  155 4472 ...  255 4176 2871]\n",
      " [ 180 2974 4338 ... 3446 3886 3731]\n",
      " [1299 2854 2414 ... 2580 1739 4199]]\n"
     ]
    },
    {
     "data": {
      "text/plain": [
       "(1000, 20)"
      ]
     },
     "execution_count": 9,
     "metadata": {},
     "output_type": "execute_result"
    }
   ],
   "source": [
    "import numpy as np\n",
    "\n",
    "\n",
    "# Create a 1000 x 20 ndarray with random integers in the half-open interval [0, 5001).\n",
    "X = np.random.randint(0,5001,(1000,20))\n",
    "print(X)\n",
    "\n",
    "# print the shape of X\n",
    "X.shape"
   ]
  },
  {
   "cell_type": "markdown",
   "metadata": {},
   "source": [
    "Now that you created the array we will mean normalize it. We will perform mean normalization using the following equation:\n",
    "\n",
    "$\\mbox{Norm_Col}_i = \\frac{\\mbox{Col}_i - \\mu_i}{\\sigma_i}$\n",
    "\n",
    "where $\\mbox{Col}_i$ is the $i$th column of $X$, $\\mu_i$ is average of the values in the $i$th column of $X$, and $\\sigma_i$ is the standard deviation of the values in the $i$th column of $X$. In other words, mean normalization is performed by subtracting from each column of $X$ the average of its values, and then by dividing by the standard deviation of its values. In the space below, you will first calculate the average and standard deviation of each column of $X$. "
   ]
  },
  {
   "cell_type": "code",
   "execution_count": 15,
   "metadata": {},
   "outputs": [
    {
     "data": {
      "text/plain": [
       "(20,)"
      ]
     },
     "execution_count": 15,
     "metadata": {},
     "output_type": "execute_result"
    }
   ],
   "source": [
    "# Average of the values in each column of X\n",
    "ave_cols = np.mean(X,axis=0)\n",
    "\n",
    "# Standard Deviation of the values in each column of X\n",
    "std_cols = np.std(X,axis=0)\n",
    "\n",
    "#std_cols.shape\n",
    "#(20,)"
   ]
  },
  {
   "cell_type": "markdown",
   "metadata": {},
   "source": [
    "If you have done the above calculations correctly, then `ave_cols` and `std_cols`, should both be vectors with shape `(20,)` since $X$ has 20 columns. You can verify this by filling the code below:"
   ]
  },
  {
   "cell_type": "code",
   "execution_count": 16,
   "metadata": {},
   "outputs": [
    {
     "name": "stdout",
     "output_type": "stream",
     "text": [
      "(20,)\n",
      "(20,)\n"
     ]
    }
   ],
   "source": [
    "# Print the shape of ave_cols\n",
    "print(ave_cols.shape)\n",
    "\n",
    "\n",
    "# Print the shape of std_cols\n",
    "print(std_cols.shape)"
   ]
  },
  {
   "cell_type": "markdown",
   "metadata": {},
   "source": [
    "You can now take advantage of Broadcasting to calculate the mean normalized version of $X$ in just one line of code using the equation above. Fill in the code below"
   ]
  },
  {
   "cell_type": "code",
   "execution_count": 20,
   "metadata": {},
   "outputs": [],
   "source": [
    "# Mean normalize X\n",
    "X_norm = (X - ave_cols)/std_cols"
   ]
  },
  {
   "cell_type": "markdown",
   "metadata": {},
   "source": [
    "If you have performed the mean normalization correctly, then the average of all the elements in $X_{\\tiny{\\mbox{norm}}}$ should be close to zero, and they should be evenly distributed in some small interval around zero. You can verify this by filing the code below:"
   ]
  },
  {
   "cell_type": "code",
   "execution_count": 21,
   "metadata": {},
   "outputs": [
    {
     "name": "stdout",
     "output_type": "stream",
     "text": [
      "1.1368683772161604e-17\n",
      "-1.7847952501756075\n",
      "1.82804532287799\n"
     ]
    }
   ],
   "source": [
    "# Print the average of all the values of X_norm\n",
    "print(np.mean(X_norm))\n",
    "\n",
    "\n",
    "# Print the average of the minimum value in each column of X_norm\n",
    "print(np.min(X_norm))\n",
    "\n",
    "\n",
    "# Print the average of the maximum value in each column of X_norm\n",
    "print(np.max(X_norm))\n"
   ]
  },
  {
   "cell_type": "markdown",
   "metadata": {},
   "source": [
    "You should note that since $X$ was created using random integers, the above values will vary. \n",
    "\n",
    "# Data Separation\n",
    "\n",
    "After the data has been mean normalized, it is customary in machine learnig to split our dataset into three sets:\n",
    "\n",
    "1. A Training Set\n",
    "2. A Cross Validation Set\n",
    "3. A Test Set\n",
    "\n",
    "The dataset is usually divided such that the Training Set contains 60% of the data, the Cross Validation Set contains 20% of the data, and the Test Set contains 20% of the data. \n",
    "\n",
    "In this part of the lab you will separate `X_norm` into a Training Set, Cross Validation Set, and a Test Set. Each data set will contain rows of `X_norm` chosen at random, making sure that we don't pick the same row twice. This will guarantee that all the rows of `X_norm` are chosen and randomly distributed among the three new sets.\n",
    "\n",
    "You will start by creating a rank 1 ndarray that contains a random permutation of the row indices of `X_norm`. You can do this by using the `np.random.permutation()` function. The `np.random.permutation(N)` function creates a random permutation of integers from 0 to `N - 1`. Let's see an example:"
   ]
  },
  {
   "cell_type": "code",
   "execution_count": 26,
   "metadata": {},
   "outputs": [
    {
     "name": "stdout",
     "output_type": "stream",
     "text": [
      "1000\n"
     ]
    },
    {
     "data": {
      "text/plain": [
       "array([1, 3, 2, 4, 0])"
      ]
     },
     "execution_count": 26,
     "metadata": {},
     "output_type": "execute_result"
    }
   ],
   "source": [
    "# We create a random permutation of integers 0 to 4\n",
    "print(len(X_norm))\n",
    "np.random.permutation(5)\n"
   ]
  },
  {
   "cell_type": "markdown",
   "metadata": {},
   "source": [
    "# To Do\n",
    "\n",
    "In the space below create a rank 1 ndarray that contains a random permutation of the row indices of `X_norm`. You can do this in one line of code by extracting the number of rows of `X_norm` using the `shape` attribute and then passing it to the  `np.random.permutation()` function. Remember the `shape` attribute returns a tuple with two numbers in the form `(rows,columns)`."
   ]
  },
  {
   "cell_type": "code",
   "execution_count": 41,
   "metadata": {
    "scrolled": true
   },
   "outputs": [
    {
     "data": {
      "text/plain": [
       "array([430, 870, 649, 656, 342, 965, 735,  91, 438, 139, 360, 673,  82,\n",
       "        37, 402, 952, 417, 337, 548,  17, 240, 398, 625, 895, 798,  28,\n",
       "       789, 122,  16, 764, 980,  15, 738, 722, 676, 659, 138,  21, 847,\n",
       "       157,  90,  88, 108, 695, 578, 137, 232, 928, 159, 633, 115, 937,\n",
       "       953, 894, 979, 212, 244, 199, 987, 405, 820,  46, 999, 936, 463,\n",
       "       203, 221, 413, 556, 868, 448, 564,  71, 611, 613, 392, 145, 358,\n",
       "       637, 607, 302, 357, 654, 586, 572, 284, 998, 142, 896, 333, 471,\n",
       "       368, 107, 728, 265, 803, 804, 907, 631,  97, 355, 981, 493, 292,\n",
       "       888, 636, 626, 383, 436, 862, 378, 819, 141, 394, 701, 621, 290,\n",
       "       822, 861,  76, 594, 211, 267, 506, 475, 805, 120, 426, 535,  63,\n",
       "       599, 876, 508, 495, 313,  64, 841, 110, 442, 217, 498,   1, 925,\n",
       "       854, 741, 752, 133, 911, 577, 517, 623, 237, 825, 328, 639,  77,\n",
       "       274, 856, 163, 558, 926, 704, 450, 982,  65, 681, 134, 686, 391,\n",
       "       846, 171, 746, 335, 105, 687, 689, 468, 600, 709, 201, 770, 131,\n",
       "       393, 507,  43, 663,  99, 457, 762, 151, 699, 218, 989, 590, 320,\n",
       "         8,  54, 634,  79, 111, 644, 559, 418, 533, 465, 174, 152, 919,\n",
       "       456, 356, 299, 223, 331, 425, 755, 831, 128, 878, 253, 955,  19,\n",
       "        32, 739, 913, 324, 604, 759, 900, 732, 799, 792, 960, 721, 794,\n",
       "       973, 271, 814, 213, 994, 275, 330, 797, 959, 787, 823, 646, 703,\n",
       "        27, 316, 440, 276, 234, 892, 352, 918, 912, 130,  55, 395, 496,\n",
       "       225, 196,  40, 802, 832, 592, 528, 828, 369, 297, 165, 760, 104,\n",
       "       251, 603, 745, 258, 974, 315, 155,   4,  24, 930, 112, 964, 437,\n",
       "        74, 630, 675, 995, 664, 853, 101, 264, 432, 788, 348,  93, 751,\n",
       "       972, 808, 697, 940, 158, 178, 835, 236, 388,  26, 424, 848, 563,\n",
       "       488, 619, 329, 167, 444, 904, 406,  50, 511, 743, 576, 281, 268,\n",
       "       477, 711, 433, 484, 702, 655, 238, 842, 172,  67, 476, 991, 458,\n",
       "       539, 364, 946, 374, 666,  75, 231, 983, 295, 781,  84, 872, 795,\n",
       "        18, 216, 483, 334,  61, 883, 204, 575, 874, 866, 351, 796, 387,\n",
       "       547, 769,  98, 487, 376, 690, 228, 591, 568, 534,  72, 658,  29,\n",
       "       411, 386, 176, 988, 375, 901,  53, 291, 857, 273, 173, 571, 371,\n",
       "        70, 614, 873, 860, 183, 339, 103, 708, 279,  73, 149, 434, 608,\n",
       "       523,  58, 464, 624, 150, 227, 345, 397, 570,  45, 415, 246, 587,\n",
       "       501, 401, 815, 585, 175, 117, 836, 927, 361, 757, 247, 935, 119,\n",
       "       338, 404, 390, 593,  33, 961, 806, 309, 384, 767, 515, 346, 153,\n",
       "       581, 742, 674, 574, 494, 266, 510, 942, 754, 256, 849, 975, 774,\n",
       "       924, 454, 385, 146, 875, 717, 573, 958, 734, 250, 525, 509, 521,\n",
       "       920, 945, 527, 763, 565, 915, 445, 446, 480, 123, 775, 529, 938,\n",
       "       186,  87, 222, 143,  80, 893, 215, 359, 373, 504, 597, 612, 113,\n",
       "       680, 516, 811, 407, 638, 382, 317, 923, 409, 677, 241, 473, 776,\n",
       "       198, 362, 180, 129, 617, 552, 693, 381, 768, 834, 765, 867, 343,\n",
       "        59, 725, 679, 954, 683, 651, 326, 616, 538, 536, 661, 270, 877,\n",
       "       500, 184, 583, 727, 235, 871, 890, 969, 443,  56, 929, 435, 956,\n",
       "       132, 304, 485, 307, 177, 379, 497, 321, 889, 278, 648, 555, 208,\n",
       "       512, 905, 906, 518, 421, 809, 898, 584, 688, 160, 303, 821, 353,\n",
       "       327,  44, 408, 899, 419, 812, 148,  96, 286, 882, 996, 914, 140,\n",
       "       219, 810, 561,  92,  60, 522, 610, 195, 724, 653, 272, 685, 519,\n",
       "       226, 665, 144, 903, 365, 947, 191, 470, 462, 347, 916, 325, 545,\n",
       "       116, 944, 296, 474, 311, 833, 672, 305, 135,  30,  41, 698, 827,\n",
       "       189, 451, 319, 505, 881, 726, 136, 660, 976, 791, 410, 843, 224,\n",
       "       422, 492, 694, 100, 489, 403,  78, 461, 188, 210, 341, 243, 696,\n",
       "       513,  25, 482, 491, 423, 891, 194, 824, 908, 629, 452, 367, 632,\n",
       "        66, 363, 740, 641, 190, 801, 261, 220, 257, 598, 354, 705, 549,\n",
       "       761, 714, 380, 780, 537, 467, 605, 943, 340, 322,  81, 193, 706,\n",
       "       349, 478, 524, 970,  62, 710, 910, 490, 662,  95, 260, 543, 125,\n",
       "       239, 777,   6, 127,  36, 990, 531, 864, 312, 553, 858, 550, 773,\n",
       "       205, 259, 323, 192, 730, 933, 431, 282, 993, 109, 269, 966, 793,\n",
       "       897, 962, 902, 567, 429, 332, 615, 984, 813, 370, 859, 596, 778,\n",
       "        12, 620, 887,  86, 715, 532, 197, 530, 729, 121, 692, 992, 162,\n",
       "       837, 934, 582, 579, 642, 560, 886,  20, 622, 544, 514, 179, 731,\n",
       "       439, 377, 782, 830, 750, 310, 102, 168, 957, 169, 118,  89, 736,\n",
       "       248,  22, 595, 293, 838, 187, 682, 744, 283, 971, 850, 951, 997,\n",
       "       785, 230,  94, 449, 502, 645, 766, 618, 372, 233, 242, 428, 671,\n",
       "       713, 206, 486, 546, 707, 298, 779, 399,  48, 580, 790, 503, 712,\n",
       "         3, 678, 161, 826, 366, 939, 718, 863, 640, 414, 156,  35, 950,\n",
       "       542, 499, 460, 562,  10, 880, 758, 285, 455, 481, 314,  23, 164,\n",
       "       635, 652,  14,  42, 627, 840, 441, 855, 308, 459, 719, 818,  68,\n",
       "       526, 917,  83, 922, 147,   5, 277, 756, 249, 753, 772, 737, 977,\n",
       "       723, 554, 720, 263, 967, 869, 202, 126, 865,  34, 447, 817, 800,\n",
       "       588, 643,  11, 453, 106, 589, 344,   0, 306, 668,   9, 986, 932,\n",
       "       670, 114, 786, 879, 816, 469, 479, 412, 844,  47, 396, 207, 747,\n",
       "       968, 845,  13, 628, 181, 350,  85, 609, 657,  52, 262, 931, 214,\n",
       "       978, 185, 154, 166, 557, 416, 336, 551, 807, 829, 949, 209,  39,\n",
       "       601, 182, 783, 909, 301, 389, 602, 650, 540, 200, 748, 420, 749,\n",
       "       691,  51,  31, 300, 852, 963,  57, 318, 941, 252, 255, 771, 254,\n",
       "       427,   7,   2,  38, 245, 294, 124, 289, 280, 647, 400,  49, 472,\n",
       "       669, 606, 229, 566, 885,  69, 287, 784, 733, 716, 839, 667, 541,\n",
       "       288, 466, 684, 170, 948, 569, 520, 921, 851, 884, 700, 985])"
      ]
     },
     "execution_count": 41,
     "metadata": {},
     "output_type": "execute_result"
    }
   ],
   "source": [
    "# Create a rank 1 ndarray that contains a random permutation of the row indices of `X_norm`\n",
    "row_indices = np.random.permutation(X_norm.shape[0])\n",
    "row_indices"
   ]
  },
  {
   "cell_type": "markdown",
   "metadata": {},
   "source": [
    "Now you can create the three datasets using the `row_indices` ndarray to select the rows that will go into each dataset. Rememeber that the Training Set contains 60% of the data, the Cross Validation Set contains 20% of the data, and the Test Set contains 20% of the data. Each set requires just one line of code to create. Fill in the code below"
   ]
  },
  {
   "cell_type": "code",
   "execution_count": 44,
   "metadata": {},
   "outputs": [
    {
     "name": "stdout",
     "output_type": "stream",
     "text": [
      "600\n"
     ]
    }
   ],
   "source": [
    "# Make any necessary calculations.\n",
    "# You can save your calculations into variables to use later.\n",
    "\n",
    "sixty = int(len(X_norm) * 0.6)\n",
    "print(sixty)\n",
    "\n",
    "eighty = int(len(X_norm) * 0.8)\n",
    "\n",
    "\n",
    "# Create a Training Set\n",
    "X_train = X[row_indices[:sixty],:]\n",
    "\n",
    "# Create a Cross Validation Set\n",
    "X_crossVal = X[row_indices[sixty:eighty],:]\n",
    "\n",
    "\n",
    "# Create a Test Set\n",
    "X_test =X[row_indices[eighty:],:]\n"
   ]
  },
  {
   "cell_type": "markdown",
   "metadata": {},
   "source": [
    "If you performed the above calculations correctly, then `X_tain` should have 600 rows and 20 columns, `X_crossVal` should have 200 rows and 20 columns, and `X_test` should have 200 rows and 20 columns. You can verify this by filling the code below:"
   ]
  },
  {
   "cell_type": "code",
   "execution_count": 39,
   "metadata": {},
   "outputs": [
    {
     "name": "stdout",
     "output_type": "stream",
     "text": [
      "(600, 20)\n",
      "(200, 20)\n",
      "(200, 20)\n"
     ]
    }
   ],
   "source": [
    "# Print the shape of X_train\n",
    "print(X_train.shape)\n",
    "\n",
    "# Print the shape of X_crossVal\n",
    "print(X_crossVal.shape)\n",
    "\n",
    "# Print the shape of X_test\n",
    "print(X_test.shape)"
   ]
  },
  {
   "cell_type": "code",
   "execution_count": null,
   "metadata": {},
   "outputs": [],
   "source": []
  }
 ],
 "metadata": {
  "kernelspec": {
   "display_name": "Python 3 (ipykernel)",
   "language": "python",
   "name": "python3"
  },
  "language_info": {
   "codemirror_mode": {
    "name": "ipython",
    "version": 3
   },
   "file_extension": ".py",
   "mimetype": "text/x-python",
   "name": "python",
   "nbconvert_exporter": "python",
   "pygments_lexer": "ipython3",
   "version": "3.9.12"
  }
 },
 "nbformat": 4,
 "nbformat_minor": 2
}
