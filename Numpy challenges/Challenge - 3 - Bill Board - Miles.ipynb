{
 "cells": [
  {
   "cell_type": "code",
   "execution_count": 9,
   "id": "686e4d18",
   "metadata": {},
   "outputs": [],
   "source": [
    "import numpy as np"
   ]
  },
  {
   "cell_type": "code",
   "execution_count": 25,
   "id": "9fe479ab",
   "metadata": {},
   "outputs": [
    {
     "name": "stdout",
     "output_type": "stream",
     "text": [
      "[17.  22.5 28. ]\n"
     ]
    }
   ],
   "source": [
    "a = np.linspace(17,28,3)\n",
    "print(a)"
   ]
  },
  {
   "cell_type": "code",
   "execution_count": 18,
   "id": "482c8efe",
   "metadata": {},
   "outputs": [
    {
     "name": "stdout",
     "output_type": "stream",
     "text": [
      "[32. 34. 36.]\n"
     ]
    }
   ],
   "source": [
    "b = np.linspace(32,36,3)\n",
    "print(b)"
   ]
  },
  {
   "cell_type": "code",
   "execution_count": 30,
   "id": "7c7de038",
   "metadata": {},
   "outputs": [
    {
     "name": "stdout",
     "output_type": "stream",
     "text": [
      "[17.  22.5 28.  32.  34.  36. ]\n"
     ]
    }
   ],
   "source": [
    "bill_boards = np.concatenate([a,b])\n",
    "print(bill_boards)"
   ]
  },
  {
   "cell_type": "code",
   "execution_count": 31,
   "id": "307b9151",
   "metadata": {},
   "outputs": [
    {
     "name": "stdout",
     "output_type": "stream",
     "text": [
      "['A' 'B' 'C' 'C' 'B' 'A']\n"
     ]
    }
   ],
   "source": [
    "signs = np.array([\"A\",\"B\",\"C\",\"C\",\"B\",\"A\"])\n",
    "print(signs)"
   ]
  },
  {
   "cell_type": "code",
   "execution_count": 34,
   "id": "64ae4cd1",
   "metadata": {},
   "outputs": [
    {
     "name": "stdout",
     "output_type": "stream",
     "text": [
      "[2. 2.]\n"
     ]
    }
   ],
   "source": [
    "print(abs(bill_boards[2:4] - 30))"
   ]
  },
  {
   "cell_type": "markdown",
   "id": "2aba6d77",
   "metadata": {},
   "source": [
    "**Optimal Code**"
   ]
  },
  {
   "cell_type": "code",
   "execution_count": 49,
   "id": "3a480409",
   "metadata": {},
   "outputs": [
    {
     "data": {
      "text/plain": [
       "array([2., 2.])"
      ]
     },
     "execution_count": 49,
     "metadata": {},
     "output_type": "execute_result"
    }
   ],
   "source": [
    "abs(np.linspace([17,32],[28,36],num = 3,axis = 1) - 30)[[0,1],[2,0]]"
   ]
  },
  {
   "cell_type": "code",
   "execution_count": null,
   "id": "781d223d",
   "metadata": {},
   "outputs": [],
   "source": []
  }
 ],
 "metadata": {
  "kernelspec": {
   "display_name": "Python 3 (ipykernel)",
   "language": "python",
   "name": "python3"
  },
  "language_info": {
   "codemirror_mode": {
    "name": "ipython",
    "version": 3
   },
   "file_extension": ".py",
   "mimetype": "text/x-python",
   "name": "python",
   "nbconvert_exporter": "python",
   "pygments_lexer": "ipython3",
   "version": "3.10.4"
  }
 },
 "nbformat": 4,
 "nbformat_minor": 5
}
