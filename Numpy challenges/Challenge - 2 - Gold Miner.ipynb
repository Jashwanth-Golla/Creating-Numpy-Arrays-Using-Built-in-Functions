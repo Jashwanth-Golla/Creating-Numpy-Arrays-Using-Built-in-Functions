{
 "cells": [
  {
   "cell_type": "code",
   "execution_count": 1,
   "id": "6f16686d",
   "metadata": {},
   "outputs": [],
   "source": [
    "import numpy as np"
   ]
  },
  {
   "cell_type": "code",
   "execution_count": 8,
   "id": "49c3f501",
   "metadata": {},
   "outputs": [
    {
     "name": "stdout",
     "output_type": "stream",
     "text": [
      "[[2 3 0 5 2 0 3]\n",
      " [8 8 0 7 1 5 3]\n",
      " [0 1 6 2 1 4 5]\n",
      " [4 0 8 9 9 8 7]\n",
      " [4 2 7 0 7 2 1]\n",
      " [9 8 9 2 5 0 8]\n",
      " [1 9 8 2 6 4 3]]\n"
     ]
    }
   ],
   "source": [
    "np.random.seed(5555)\n",
    "gold = np.random.randint(0,10,(7,7))\n",
    "\n",
    "print(gold)"
   ]
  },
  {
   "cell_type": "code",
   "execution_count": 7,
   "id": "b06bd0d3",
   "metadata": {},
   "outputs": [
    {
     "name": "stdout",
     "output_type": "stream",
     "text": [
      "[[0 4]\n",
      " [2 2]\n",
      " [2 3]\n",
      " [5 1]\n",
      " [6 3]]\n"
     ]
    }
   ],
   "source": [
    "locs = np.array([\n",
    "    [0,4],\n",
    "    [2,2],\n",
    "    [2,3],\n",
    "    [5,1],\n",
    "    [6,3]\n",
    "])\n",
    "\n",
    "print(locs)"
   ]
  },
  {
   "cell_type": "markdown",
   "id": "00545536",
   "metadata": {},
   "source": [
    "**My Solution**"
   ]
  },
  {
   "cell_type": "code",
   "execution_count": 21,
   "id": "1a913118",
   "metadata": {},
   "outputs": [
    {
     "name": "stdout",
     "output_type": "stream",
     "text": [
      "20\n"
     ]
    }
   ],
   "source": [
    "res = 0\n",
    "for i in range(len(locs)):\n",
    "    res += gold[locs[i][0],locs[i][1]]\n",
    "print(res)"
   ]
  },
  {
   "cell_type": "markdown",
   "id": "85320a28",
   "metadata": {},
   "source": [
    "**Most Optimised Solution**"
   ]
  },
  {
   "cell_type": "code",
   "execution_count": 27,
   "id": "11fa08ff",
   "metadata": {},
   "outputs": [
    {
     "data": {
      "text/plain": [
       "20"
      ]
     },
     "execution_count": 27,
     "metadata": {},
     "output_type": "execute_result"
    }
   ],
   "source": [
    "gold[locs[:,0],locs[:,1]].sum()"
   ]
  },
  {
   "cell_type": "markdown",
   "id": "78e5ed35",
   "metadata": {},
   "source": [
    "**Explaination Hints**"
   ]
  },
  {
   "cell_type": "code",
   "execution_count": 24,
   "id": "c302ccbb",
   "metadata": {},
   "outputs": [
    {
     "data": {
      "text/plain": [
       "array([0, 2, 2, 5, 6])"
      ]
     },
     "execution_count": 24,
     "metadata": {},
     "output_type": "execute_result"
    }
   ],
   "source": [
    "locs[:,0]"
   ]
  },
  {
   "cell_type": "code",
   "execution_count": 26,
   "id": "ef9dda6f",
   "metadata": {},
   "outputs": [
    {
     "data": {
      "text/plain": [
       "array([4, 2, 3, 1, 3])"
      ]
     },
     "execution_count": 26,
     "metadata": {},
     "output_type": "execute_result"
    }
   ],
   "source": [
    "locs[:,1]"
   ]
  },
  {
   "cell_type": "code",
   "execution_count": 28,
   "id": "2faeb120",
   "metadata": {},
   "outputs": [
    {
     "data": {
      "text/plain": [
       "array([2, 6, 2, 8, 2])"
      ]
     },
     "execution_count": 28,
     "metadata": {},
     "output_type": "execute_result"
    }
   ],
   "source": [
    "gold[locs[:,0],locs[:,1]]"
   ]
  },
  {
   "cell_type": "code",
   "execution_count": null,
   "id": "2efd4795",
   "metadata": {},
   "outputs": [],
   "source": []
  }
 ],
 "metadata": {
  "kernelspec": {
   "display_name": "Python 3 (ipykernel)",
   "language": "python",
   "name": "python3"
  },
  "language_info": {
   "codemirror_mode": {
    "name": "ipython",
    "version": 3
   },
   "file_extension": ".py",
   "mimetype": "text/x-python",
   "name": "python",
   "nbconvert_exporter": "python",
   "pygments_lexer": "ipython3",
   "version": "3.10.4"
  }
 },
 "nbformat": 4,
 "nbformat_minor": 5
}
