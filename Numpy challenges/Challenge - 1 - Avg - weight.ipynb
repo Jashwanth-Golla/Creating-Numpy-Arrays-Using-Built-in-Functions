{
 "cells": [
  {
   "cell_type": "code",
   "execution_count": 1,
   "id": "da00f053",
   "metadata": {},
   "outputs": [],
   "source": [
    "import numpy as np"
   ]
  },
  {
   "cell_type": "code",
   "execution_count": 22,
   "id": "ff4b0a43",
   "metadata": {},
   "outputs": [
    {
     "name": "stdout",
     "output_type": "stream",
     "text": [
      "[185.  184.8 184.6 184.4 184.2 184.  183.8 183.6 183.4 183.2 183.  182.8\n",
      " 182.6 182.4 182.2 182.  181.8 181.6 181.4 181.2 181.  180.8 180.6 180.4\n",
      " 180.2 180.  179.8 179.6 179.4 179.2 179.  178.8 178.6 178.4 178.2]\n",
      "\n",
      "[183.9, 182.5, 181.1, 179.7, 178.3]\n"
     ]
    }
   ],
   "source": [
    "weights = 185 - np.arange(5*7)/5\n",
    "\n",
    "print(weights)\n",
    "\n",
    "l = weights.shape[0]\n",
    "\n",
    "res = []\n",
    "\n",
    "for i in range(5,l+1,7):\n",
    "    avg = (weights[i] + weights[i+1]) / 2\n",
    "    res.append(avg)\n",
    "    \n",
    "print()\n",
    "print(res)\n",
    "\n",
    "    "
   ]
  },
  {
   "cell_type": "markdown",
   "id": "f02f6301",
   "metadata": {},
   "source": [
    "**The Most Optimised Code**"
   ]
  },
  {
   "cell_type": "code",
   "execution_count": 25,
   "id": "082f93f3",
   "metadata": {},
   "outputs": [
    {
     "data": {
      "text/plain": [
       "array([183.9, 182.5, 181.1, 179.7, 178.3])"
      ]
     },
     "execution_count": 25,
     "metadata": {},
     "output_type": "execute_result"
    }
   ],
   "source": [
    "(weights[5::7] + weights[6::7]) / 2"
   ]
  },
  {
   "cell_type": "code",
   "execution_count": null,
   "id": "208193c0",
   "metadata": {},
   "outputs": [],
   "source": []
  }
 ],
 "metadata": {
  "kernelspec": {
   "display_name": "Python 3 (ipykernel)",
   "language": "python",
   "name": "python3"
  },
  "language_info": {
   "codemirror_mode": {
    "name": "ipython",
    "version": 3
   },
   "file_extension": ".py",
   "mimetype": "text/x-python",
   "name": "python",
   "nbconvert_exporter": "python",
   "pygments_lexer": "ipython3",
   "version": "3.10.4"
  }
 },
 "nbformat": 4,
 "nbformat_minor": 5
}
